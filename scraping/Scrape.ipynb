{
  "nbformat": 4,
  "nbformat_minor": 0,
  "metadata": {
    "colab": {
      "name": "BigData.ipynb",
      "private_outputs": true,
      "provenance": [],
      "collapsed_sections": []
    },
    "kernelspec": {
      "display_name": "Python 3",
      "name": "python3"
    },
    "language_info": {
      "name": "python"
    }
  },
  "cells": [
    {
      "cell_type": "code",
      "metadata": {
        "id": "9pvJUoMZFExZ"
      },
      "source": [
        "import csv\n",
        "import requests\n",
        "import time\n",
        "import json"
      ],
      "execution_count": null,
      "outputs": []
    },
    {
      "cell_type": "code",
      "metadata": {
        "id": "-GuN9nrpS3k6"
      },
      "source": [
        "chunk_number = 6\n",
        "\n",
        "with open('/content/drive/MyDrive/BigData/SymbolList/chunk{}.txt'.format(chunk_number), 'r') as f:\n",
        "  raw_symbol_list = f.readlines()\n",
        "  symbol_list = map(lambda x: x.strip('\\n'), raw_symbol_list)"
      ],
      "execution_count": null,
      "outputs": []
    },
    {
      "cell_type": "code",
      "metadata": {
        "id": "NSdix70b8zLE"
      },
      "source": [
        "api_key=\"8LRYXIR8XTC7DFE4\"\n",
        "# api_key=\"0RAHRR6Q15Q83FPO\"\n",
        "\n",
        "url = 'https://www.alphavantage.co/query?function=TIME_SERIES_DAILY_ADJUSTED&symbol={}&outputsize=full&apikey={}'\n",
        "\n",
        "data = None\n",
        "for i, symbol in enumerate(symbol_list):\n",
        "  if i <= 20:\n",
        "    continue\n",
        "  if i >= 300:\n",
        "    break\n",
        "  if i % 5 == 4:\n",
        "    time.sleep(61)\n",
        "  r = requests.get(url.format(symbol, api_key))\n",
        "  data = r.json()\n",
        "  with open('/content/drive/MyDrive/BigData/{}.json'.format(symbol), 'w') as f:\n",
        "    json.dump(data, f)\n",
        "  print(data)\n",
        "  data = None\n",
        "  \n"
      ],
      "execution_count": null,
      "outputs": []
    }
  ]
}