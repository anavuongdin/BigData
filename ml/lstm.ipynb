{
  "cells": [
    {
      "cell_type": "markdown",
      "metadata": {
        "id": "aCkFlHmCVNdB"
      },
      "source": [
        "# Setup Prerequisites"
      ]
    },
    {
      "cell_type": "markdown",
      "metadata": {
        "id": "FFJoOxRKVYnJ"
      },
      "source": [
        "## Packages"
      ]
    },
    {
      "cell_type": "code",
      "execution_count": null,
      "metadata": {
        "colab": {
          "base_uri": "https://localhost:8080/"
        },
        "id": "-hjS8gyZa4Ds",
        "outputId": "674ee446-e0be-4f70-b530-60d1ba867d02"
      },
      "outputs": [
        {
          "output_type": "stream",
          "name": "stdout",
          "text": [
            "Mounted at /content/drive\n"
          ]
        }
      ],
      "source": [
        "from google.colab import drive\n",
        "drive.mount('/content/drive')"
      ]
    },
    {
      "cell_type": "code",
      "execution_count": null,
      "metadata": {
        "colab": {
          "base_uri": "https://localhost:8080/"
        },
        "id": "20grl9hAVQ-a",
        "outputId": "c6126c5e-e224-4f73-9a5b-1695630b4049"
      },
      "outputs": [
        {
          "output_type": "stream",
          "name": "stdout",
          "text": [
            "Collecting tensorflow-io\n",
            "  Downloading tensorflow_io-0.23.1-cp37-cp37m-manylinux_2_12_x86_64.manylinux2010_x86_64.whl (23.1 MB)\n",
            "\u001b[K     |████████████████████████████████| 23.1 MB 1.8 MB/s \n",
            "\u001b[?25hCollecting tensorflow-io-gcs-filesystem==0.23.1\n",
            "  Downloading tensorflow_io_gcs_filesystem-0.23.1-cp37-cp37m-manylinux_2_12_x86_64.manylinux2010_x86_64.whl (2.1 MB)\n",
            "\u001b[K     |████████████████████████████████| 2.1 MB 40.5 MB/s \n",
            "\u001b[?25hInstalling collected packages: tensorflow-io-gcs-filesystem, tensorflow-io\n",
            "  Attempting uninstall: tensorflow-io-gcs-filesystem\n",
            "    Found existing installation: tensorflow-io-gcs-filesystem 0.22.0\n",
            "    Uninstalling tensorflow-io-gcs-filesystem-0.22.0:\n",
            "      Successfully uninstalled tensorflow-io-gcs-filesystem-0.22.0\n",
            "Successfully installed tensorflow-io-0.23.1 tensorflow-io-gcs-filesystem-0.23.1\n",
            "Collecting kafka-python\n",
            "  Downloading kafka_python-2.0.2-py2.py3-none-any.whl (246 kB)\n",
            "\u001b[K     |████████████████████████████████| 246 kB 5.2 MB/s \n",
            "\u001b[?25hInstalling collected packages: kafka-python\n",
            "Successfully installed kafka-python-2.0.2\n",
            "Requirement already satisfied: sklearn in /usr/local/lib/python3.7/dist-packages (0.0)\n",
            "Requirement already satisfied: scikit-learn in /usr/local/lib/python3.7/dist-packages (from sklearn) (1.0.1)\n",
            "Requirement already satisfied: numpy>=1.14.6 in /usr/local/lib/python3.7/dist-packages (from scikit-learn->sklearn) (1.19.5)\n",
            "Requirement already satisfied: joblib>=0.11 in /usr/local/lib/python3.7/dist-packages (from scikit-learn->sklearn) (1.1.0)\n",
            "Requirement already satisfied: scipy>=1.1.0 in /usr/local/lib/python3.7/dist-packages (from scikit-learn->sklearn) (1.4.1)\n",
            "Requirement already satisfied: threadpoolctl>=2.0.0 in /usr/local/lib/python3.7/dist-packages (from scikit-learn->sklearn) (3.0.0)\n"
          ]
        }
      ],
      "source": [
        "!pip install tensorflow-io\n",
        "!pip install kafka-python\n",
        "!pip install sklearn"
      ]
    },
    {
      "cell_type": "code",
      "execution_count": null,
      "metadata": {
        "id": "dGqGmHMYVRzY"
      },
      "outputs": [],
      "source": [
        "import os\n",
        "from datetime import datetime\n",
        "import time\n",
        "import threading\n",
        "import json\n",
        "from kafka import KafkaProducer\n",
        "from kafka.errors import KafkaError\n",
        "from sklearn.model_selection import train_test_split\n",
        "import pandas as pd\n",
        "import tensorflow as tf\n",
        "import tensorflow_io as tfio\n",
        "\n",
        "#Importing the Libraries\n",
        "import pandas as PD\n",
        "import numpy as np\n",
        "%matplotlib inline\n",
        "import matplotlib. pyplot as plt\n",
        "import matplotlib\n",
        "from sklearn.preprocessing import MinMaxScaler\n",
        "from keras.layers import LSTM, Dense, Dropout\n",
        "from sklearn.model_selection import TimeSeriesSplit\n",
        "from sklearn.metrics import mean_squared_error, r2_score\n",
        "import matplotlib. dates as mandates\n",
        "from sklearn.preprocessing import MinMaxScaler\n",
        "from sklearn import linear_model\n",
        "from keras.models import Sequential\n",
        "from keras.layers import Dense\n",
        "import keras.backend as K\n",
        "from keras.callbacks import EarlyStopping\n",
        "from tensorflow.keras.optimizers import Adam\n",
        "from keras.models import load_model\n",
        "from keras.layers import LSTM\n",
        "from keras.utils.vis_utils import plot_model"
      ]
    },
    {
      "cell_type": "code",
      "execution_count": null,
      "metadata": {
        "colab": {
          "base_uri": "https://localhost:8080/"
        },
        "id": "y9C18dxcVVlQ",
        "outputId": "f9ed9701-e4cd-4095-d81a-eb00cf4d6bbb"
      },
      "outputs": [
        {
          "output_type": "stream",
          "name": "stdout",
          "text": [
            "tensorflow-io version: 0.23.1\n",
            "tensorflow version: 2.7.0\n"
          ]
        }
      ],
      "source": [
        "print(\"tensorflow-io version: {}\".format(tfio.__version__))\n",
        "print(\"tensorflow version: {}\".format(tf.__version__))"
      ]
    },
    {
      "cell_type": "markdown",
      "metadata": {
        "id": "fO6HakIPVdzq"
      },
      "source": [
        "## Kafka"
      ]
    },
    {
      "cell_type": "code",
      "execution_count": null,
      "metadata": {
        "id": "jOqXPcP8VibS"
      },
      "outputs": [],
      "source": [
        "!curl -sSOL https://downloads.apache.org/kafka/2.7.2/kafka_2.13-2.7.2.tgz\n",
        "!tar -xzf kafka_2.13-2.7.2.tgz"
      ]
    },
    {
      "cell_type": "code",
      "execution_count": null,
      "metadata": {
        "colab": {
          "base_uri": "https://localhost:8080/"
        },
        "id": "nEYEEF9OVkHh",
        "outputId": "1cf13200-e5d8-48b0-f5bb-57e88659732a"
      },
      "outputs": [
        {
          "output_type": "stream",
          "name": "stdout",
          "text": [
            "Waiting for 10 secs until kafka and zookeeper services are up and running\n"
          ]
        }
      ],
      "source": [
        "!./kafka_2.13-2.7.2/bin/zookeeper-server-start.sh -daemon ./kafka_2.13-2.7.2/config/zookeeper.properties\n",
        "!./kafka_2.13-2.7.2/bin/kafka-server-start.sh -daemon ./kafka_2.13-2.7.2/config/server.properties\n",
        "!echo \"Waiting for 10 secs until kafka and zookeeper services are up and running\"\n",
        "!sleep 10"
      ]
    },
    {
      "cell_type": "code",
      "execution_count": null,
      "metadata": {
        "colab": {
          "base_uri": "https://localhost:8080/"
        },
        "id": "qsAQt-6ZVpur",
        "outputId": "18e14a01-124f-45dc-9dd6-4015487e81cd"
      },
      "outputs": [
        {
          "output_type": "stream",
          "name": "stdout",
          "text": [
            "root         652       1 15 12:57 ?        00:00:02 java -Xmx512M -Xms512M -server -XX:+UseG1GC -XX:MaxGCPauseMillis=20 -XX:InitiatingHeapOccupancyPercent=35 -XX:+ExplicitGCInvokesConcurrent -XX:MaxInlineLevel=15 -Djava.awt.headless=true -Xlog:gc*:file=/content/kafka_2.13-2.7.2/bin/../logs/zookeeper-gc.log:time,tags:filecount=10,filesize=100M -Dcom.sun.management.jmxremote -Dcom.sun.management.jmxremote.authenticate=false -Dcom.sun.management.jmxremote.ssl=false -Dkafka.logs.dir=/content/kafka_2.13-2.7.2/bin/../logs -Dlog4j.configuration=file:./kafka_2.13-2.7.2/bin/../config/log4j.properties -cp /content/kafka_2.13-2.7.2/bin/../libs/activation-1.1.1.jar:/content/kafka_2.13-2.7.2/bin/../libs/aopalliance-repackaged-2.6.1.jar:/content/kafka_2.13-2.7.2/bin/../libs/argparse4j-0.7.0.jar:/content/kafka_2.13-2.7.2/bin/../libs/audience-annotations-0.5.0.jar:/content/kafka_2.13-2.7.2/bin/../libs/commons-cli-1.4.jar:/content/kafka_2.13-2.7.2/bin/../libs/commons-lang3-3.8.1.jar:/content/kafka_2.13-2.7.2/bin/../libs/connect-api-2.7.2.jar:/content/kafka_2.13-2.7.2/bin/../libs/connect-basic-auth-extension-2.7.2.jar:/content/kafka_2.13-2.7.2/bin/../libs/connect-file-2.7.2.jar:/content/kafka_2.13-2.7.2/bin/../libs/connect-json-2.7.2.jar:/content/kafka_2.13-2.7.2/bin/../libs/connect-mirror-2.7.2.jar:/content/kafka_2.13-2.7.2/bin/../libs/connect-mirror-client-2.7.2.jar:/content/kafka_2.13-2.7.2/bin/../libs/connect-runtime-2.7.2.jar:/content/kafka_2.13-2.7.2/bin/../libs/connect-transforms-2.7.2.jar:/content/kafka_2.13-2.7.2/bin/../libs/hk2-api-2.6.1.jar:/content/kafka_2.13-2.7.2/bin/../libs/hk2-locator-2.6.1.jar:/content/kafka_2.13-2.7.2/bin/../libs/hk2-utils-2.6.1.jar:/content/kafka_2.13-2.7.2/bin/../libs/jackson-annotations-2.10.5.jar:/content/kafka_2.13-2.7.2/bin/../libs/jackson-core-2.10.5.jar:/content/kafka_2.13-2.7.2/bin/../libs/jackson-databind-2.10.5.1.jar:/content/kafka_2.13-2.7.2/bin/../libs/jackson-dataformat-csv-2.10.5.jar:/content/kafka_2.13-2.7.2/bin/../libs/jackson-datatype-jdk8-2.10.5.jar:/content/kafka_2.13-2.7.2/bin/../libs/jackson-jaxrs-base-2.10.5.jar:/content/kafka_2.13-2.7.2/bin/../libs/jackson-jaxrs-json-provider-2.10.5.jar:/content/kafka_2.13-2.7.2/bin/../libs/jackson-module-jaxb-annotations-2.10.5.jar:/content/kafka_2.13-2.7.2/bin/../libs/jackson-module-paranamer-2.10.5.jar:/content/kafka_2.13-2.7.2/bin/../libs/jackson-module-scala_2.13-2.10.5.jar:/content/kafka_2.13-2.7.2/bin/../libs/jakarta.activation-api-1.2.1.jar:/content/kafka_2.13-2.7.2/bin/../libs/jakarta.annotation-api-1.3.5.jar:/content/kafka_2.13-2.7.2/bin/../libs/jakarta.inject-2.6.1.jar:/content/kafka_2.13-2.7.2/bin/../libs/jakarta.validation-api-2.0.2.jar:/content/kafka_2.13-2.7.2/bin/../libs/jakarta.ws.rs-api-2.1.6.jar:/content/kafka_2.13-2.7.2/bin/../libs/jakarta.xml.bind-api-2.3.2.jar:/content/kafka_2.13-2.7.2/bin/../libs/javassist-3.25.0-GA.jar:/content/kafka_2.13-2.7.2/bin/../libs/javassist-3.26.0-GA.jar:/content/kafka_2.13-2.7.2/bin/../libs/javax.servlet-api-3.1.0.jar:/content/kafka_2.13-2.7.2/bin/../libs/javax.ws.rs-api-2.1.1.jar:/content/kafka_2.13-2.7.2/bin/../libs/jaxb-api-2.3.0.jar:/content/kafka_2.13-2.7.2/bin/../libs/jersey-client-2.34.jar:/content/kafka_2.13-2.7.2/bin/../libs/jersey-common-2.34.jar:/content/kafka_2.13-2.7.2/bin/../libs/jersey-container-servlet-2.34.jar:/content/kafka_2.13-2.7.2/bin/../libs/jersey-container-servlet-core-2.34.jar:/content/kafka_2.13-2.7.2/bin/../libs/jersey-hk2-2.34.jar:/content/kafka_2.13-2.7.2/bin/../libs/jersey-server-2.34.jar:/content/kafka_2.13-2.7.2/bin/../libs/jetty-client-9.4.43.v20210629.jar:/content/kafka_2.13-2.7.2/bin/../libs/jetty-continuation-9.4.43.v20210629.jar:/content/kafka_2.13-2.7.2/bin/../libs/jetty-http-9.4.43.v20210629.jar:/content/kafka_2.13-2.7.2/bin/../libs/jetty-io-9.4.43.v20210629.jar:/content/kafka_2.13-2.7.2/bin/../libs/jetty-security-9.4.43.v20210629.jar:/content/kafka_2.13-2.7.2/bin/../libs/jetty-server-9.4.43.v20210629.jar:/content/kafka_2.13-2.7.2/bin/../libs/jetty-servlet-9.4.43.v20210629.jar:/content/kafka_2.13-2.7.2/bin/../libs/jetty-servlets-9.4.43.v20210629.jar:/content/kafka_2.13-2.7.2/bin/../libs/jetty-util-9.4.43.v20210629.jar:/content/kafka_2.13-2.7.2/bin/../libs/jetty-util-ajax-9.4.43.v20210629.jar:/content/kafka_2.13-2.7.2/bin/../libs/jopt-simple-5.0.4.jar:/content/kafka_2.13-2.7.2/bin/../libs/kafka_2.13-2.7.2.jar:/content/kafka_2.13-2.7.2/bin/../libs/kafka_2.13-2.7.2-sources.jar:/content/kafka_2.13-2.7.2/bin/../libs/kafka-clients-2.7.2.jar:/content/kafka_2.13-2.7.2/bin/../libs/kafka-log4j-appender-2.7.2.jar:/content/kafka_2.13-2.7.2/bin/../libs/kafka-raft-2.7.2.jar:/content/kafka_2.13-2.7.2/bin/../libs/kafka-streams-2.7.2.jar:/content/kafka_2.13-2.7.2/bin/../libs/kafka-streams-examples-2.7.2.jar:/content/kafka_2.13-2.7.2/bin/../libs/kafka-streams-scala_2.13-2.7.2.jar:/content/kafka_2.13-2.7.2/bin/../libs/kafka-streams-test-utils-2.7.2.jar:/content/kafka_2.13-2.7.2/bin/../libs/kafka-tools-2.7.2.jar:/content/kafka_2.13-2.7.2/bin/../libs/log4j-1.2.17.jar:/content/kafka_2.13-2.7.2/bin/../libs/lz4-java-1.7.1.jar:/content/kafka_2.13-2.7.2/bin/../libs/maven-artifact-3.8.1.jar:/content/kafka_2.13-2.7.2/bin/../libs/metrics-core-2.2.0.jar:/content/kafka_2.13-2.7.2/bin/../libs/netty-buffer-4.1.59.Final.jar:/content/kafka_2.13-2.7.2/bin/../libs/netty-codec-4.1.59.Final.jar:/content/kafka_2.13-2.7.2/bin/../libs/netty-common-4.1.59.Final.jar:/content/kafka_2.13-2.7.2/bin/../libs/netty-handler-4.1.59.Final.jar:/content/kafka_2.13-2.7.2/bin/../libs/netty-resolver-4.1.59.Final.jar:/content/kafka_2.13-2.7.2/bin/../libs/netty-transport-4.1.59.Final.jar:/content/kafka_2.13-2.7.2/bin/../libs/netty-transport-native-epoll-4.1.59.Final.jar:/content/kafka_2.13-2.7.2/bin/../libs/netty-transport-native-unix-common-4.1.59.Final.jar:/content/kafka_2.13-2.7.2/bin/../libs/osgi-resource-locator-1.0.3.jar:/content/kafka_2.13-2.7.2/bin/../libs/paranamer-2.8.jar:/content/kafka_2.13-2.7.2/bin/../libs/plexus-utils-3.2.1.jar:/content/kafka_2.13-2.7.2/bin/../libs/reflections-0.9.12.jar:/content/kafka_2.13-2.7.2/bin/../libs/rocksdbjni-5.18.4.jar:/content/kafka_2.13-2.7.2/bin/../libs/scala-collection-compat_2.13-2.2.0.jar:/content/kafka_2.13-2.7.2/bin/../libs/scala-java8-compat_2.13-0.9.1.jar:/content/kafka_2.13-2.7.2/bin/../libs/scala-library-2.13.3.jar:/content/kafka_2.13-2.7.2/bin/../libs/scala-logging_2.13-3.9.2.jar:/content/kafka_2.13-2.7.2/bin/../libs/scala-reflect-2.13.3.jar:/content/kafka_2.13-2.7.2/bin/../libs/slf4j-api-1.7.30.jar:/content/kafka_2.13-2.7.2/bin/../libs/slf4j-log4j12-1.7.30.jar:/content/kafka_2.13-2.7.2/bin/../libs/snappy-java-1.1.7.7.jar:/content/kafka_2.13-2.7.2/bin/../libs/zookeeper-3.5.9.jar:/content/kafka_2.13-2.7.2/bin/../libs/zookeeper-jute-3.5.9.jar:/content/kafka_2.13-2.7.2/bin/../libs/zstd-jni-1.4.5-6.jar org.apache.zookeeper.server.quorum.QuorumPeerMain ./kafka_2.13-2.7.2/config/zookeeper.properties\n",
            "root        1008       1 63 12:57 ?        00:00:06 java -Xmx1G -Xms1G -server -XX:+UseG1GC -XX:MaxGCPauseMillis=20 -XX:InitiatingHeapOccupancyPercent=35 -XX:+ExplicitGCInvokesConcurrent -XX:MaxInlineLevel=15 -Djava.awt.headless=true -Xlog:gc*:file=/content/kafka_2.13-2.7.2/bin/../logs/kafkaServer-gc.log:time,tags:filecount=10,filesize=100M -Dcom.sun.management.jmxremote -Dcom.sun.management.jmxremote.authenticate=false -Dcom.sun.management.jmxremote.ssl=false -Dkafka.logs.dir=/content/kafka_2.13-2.7.2/bin/../logs -Dlog4j.configuration=file:./kafka_2.13-2.7.2/bin/../config/log4j.properties -cp /content/kafka_2.13-2.7.2/bin/../libs/activation-1.1.1.jar:/content/kafka_2.13-2.7.2/bin/../libs/aopalliance-repackaged-2.6.1.jar:/content/kafka_2.13-2.7.2/bin/../libs/argparse4j-0.7.0.jar:/content/kafka_2.13-2.7.2/bin/../libs/audience-annotations-0.5.0.jar:/content/kafka_2.13-2.7.2/bin/../libs/commons-cli-1.4.jar:/content/kafka_2.13-2.7.2/bin/../libs/commons-lang3-3.8.1.jar:/content/kafka_2.13-2.7.2/bin/../libs/connect-api-2.7.2.jar:/content/kafka_2.13-2.7.2/bin/../libs/connect-basic-auth-extension-2.7.2.jar:/content/kafka_2.13-2.7.2/bin/../libs/connect-file-2.7.2.jar:/content/kafka_2.13-2.7.2/bin/../libs/connect-json-2.7.2.jar:/content/kafka_2.13-2.7.2/bin/../libs/connect-mirror-2.7.2.jar:/content/kafka_2.13-2.7.2/bin/../libs/connect-mirror-client-2.7.2.jar:/content/kafka_2.13-2.7.2/bin/../libs/connect-runtime-2.7.2.jar:/content/kafka_2.13-2.7.2/bin/../libs/connect-transforms-2.7.2.jar:/content/kafka_2.13-2.7.2/bin/../libs/hk2-api-2.6.1.jar:/content/kafka_2.13-2.7.2/bin/../libs/hk2-locator-2.6.1.jar:/content/kafka_2.13-2.7.2/bin/../libs/hk2-utils-2.6.1.jar:/content/kafka_2.13-2.7.2/bin/../libs/jackson-annotations-2.10.5.jar:/content/kafka_2.13-2.7.2/bin/../libs/jackson-core-2.10.5.jar:/content/kafka_2.13-2.7.2/bin/../libs/jackson-databind-2.10.5.1.jar:/content/kafka_2.13-2.7.2/bin/../libs/jackson-dataformat-csv-2.10.5.jar:/content/kafka_2.13-2.7.2/bin/../libs/jackson-datatype-jdk8-2.10.5.jar:/content/kafka_2.13-2.7.2/bin/../libs/jackson-jaxrs-base-2.10.5.jar:/content/kafka_2.13-2.7.2/bin/../libs/jackson-jaxrs-json-provider-2.10.5.jar:/content/kafka_2.13-2.7.2/bin/../libs/jackson-module-jaxb-annotations-2.10.5.jar:/content/kafka_2.13-2.7.2/bin/../libs/jackson-module-paranamer-2.10.5.jar:/content/kafka_2.13-2.7.2/bin/../libs/jackson-module-scala_2.13-2.10.5.jar:/content/kafka_2.13-2.7.2/bin/../libs/jakarta.activation-api-1.2.1.jar:/content/kafka_2.13-2.7.2/bin/../libs/jakarta.annotation-api-1.3.5.jar:/content/kafka_2.13-2.7.2/bin/../libs/jakarta.inject-2.6.1.jar:/content/kafka_2.13-2.7.2/bin/../libs/jakarta.validation-api-2.0.2.jar:/content/kafka_2.13-2.7.2/bin/../libs/jakarta.ws.rs-api-2.1.6.jar:/content/kafka_2.13-2.7.2/bin/../libs/jakarta.xml.bind-api-2.3.2.jar:/content/kafka_2.13-2.7.2/bin/../libs/javassist-3.25.0-GA.jar:/content/kafka_2.13-2.7.2/bin/../libs/javassist-3.26.0-GA.jar:/content/kafka_2.13-2.7.2/bin/../libs/javax.servlet-api-3.1.0.jar:/content/kafka_2.13-2.7.2/bin/../libs/javax.ws.rs-api-2.1.1.jar:/content/kafka_2.13-2.7.2/bin/../libs/jaxb-api-2.3.0.jar:/content/kafka_2.13-2.7.2/bin/../libs/jersey-client-2.34.jar:/content/kafka_2.13-2.7.2/bin/../libs/jersey-common-2.34.jar:/content/kafka_2.13-2.7.2/bin/../libs/jersey-container-servlet-2.34.jar:/content/kafka_2.13-2.7.2/bin/../libs/jersey-container-servlet-core-2.34.jar:/content/kafka_2.13-2.7.2/bin/../libs/jersey-hk2-2.34.jar:/content/kafka_2.13-2.7.2/bin/../libs/jersey-server-2.34.jar:/content/kafka_2.13-2.7.2/bin/../libs/jetty-client-9.4.43.v20210629.jar:/content/kafka_2.13-2.7.2/bin/../libs/jetty-continuation-9.4.43.v20210629.jar:/content/kafka_2.13-2.7.2/bin/../libs/jetty-http-9.4.43.v20210629.jar:/content/kafka_2.13-2.7.2/bin/../libs/jetty-io-9.4.43.v20210629.jar:/content/kafka_2.13-2.7.2/bin/../libs/jetty-security-9.4.43.v20210629.jar:/content/kafka_2.13-2.7.2/bin/../libs/jetty-server-9.4.43.v20210629.jar:/content/kafka_2.13-2.7.2/bin/../libs/jetty-servlet-9.4.43.v20210629.jar:/content/kafka_2.13-2.7.2/bin/../libs/jetty-servlets-9.4.43.v20210629.jar:/content/kafka_2.13-2.7.2/bin/../libs/jetty-util-9.4.43.v20210629.jar:/content/kafka_2.13-2.7.2/bin/../libs/jetty-util-ajax-9.4.43.v20210629.jar:/content/kafka_2.13-2.7.2/bin/../libs/jopt-simple-5.0.4.jar:/content/kafka_2.13-2.7.2/bin/../libs/kafka_2.13-2.7.2.jar:/content/kafka_2.13-2.7.2/bin/../libs/kafka_2.13-2.7.2-sources.jar:/content/kafka_2.13-2.7.2/bin/../libs/kafka-clients-2.7.2.jar:/content/kafka_2.13-2.7.2/bin/../libs/kafka-log4j-appender-2.7.2.jar:/content/kafka_2.13-2.7.2/bin/../libs/kafka-raft-2.7.2.jar:/content/kafka_2.13-2.7.2/bin/../libs/kafka-streams-2.7.2.jar:/content/kafka_2.13-2.7.2/bin/../libs/kafka-streams-examples-2.7.2.jar:/content/kafka_2.13-2.7.2/bin/../libs/kafka-streams-scala_2.13-2.7.2.jar:/content/kafka_2.13-2.7.2/bin/../libs/kafka-streams-test-utils-2.7.2.jar:/content/kafka_2.13-2.7.2/bin/../libs/kafka-tools-2.7.2.jar:/content/kafka_2.13-2.7.2/bin/../libs/log4j-1.2.17.jar:/content/kafka_2.13-2.7.2/bin/../libs/lz4-java-1.7.1.jar:/content/kafka_2.13-2.7.2/bin/../libs/maven-artifact-3.8.1.jar:/content/kafka_2.13-2.7.2/bin/../libs/metrics-core-2.2.0.jar:/content/kafka_2.13-2.7.2/bin/../libs/netty-buffer-4.1.59.Final.jar:/content/kafka_2.13-2.7.2/bin/../libs/netty-codec-4.1.59.Final.jar:/content/kafka_2.13-2.7.2/bin/../libs/netty-common-4.1.59.Final.jar:/content/kafka_2.13-2.7.2/bin/../libs/netty-handler-4.1.59.Final.jar:/content/kafka_2.13-2.7.2/bin/../libs/netty-resolver-4.1.59.Final.jar:/content/kafka_2.13-2.7.2/bin/../libs/netty-transport-4.1.59.Final.jar:/content/kafka_2.13-2.7.2/bin/../libs/netty-transport-native-epoll-4.1.59.Final.jar:/content/kafka_2.13-2.7.2/bin/../libs/netty-transport-native-unix-common-4.1.59.Final.jar:/content/kafka_2.13-2.7.2/bin/../libs/osgi-resource-locator-1.0.3.jar:/content/kafka_2.13-2.7.2/bin/../libs/paranamer-2.8.jar:/content/kafka_2.13-2.7.2/bin/../libs/plexus-utils-3.2.1.jar:/content/kafka_2.13-2.7.2/bin/../libs/reflections-0.9.12.jar:/content/kafka_2.13-2.7.2/bin/../libs/rocksdbjni-5.18.4.jar:/content/kafka_2.13-2.7.2/bin/../libs/scala-collection-compat_2.13-2.2.0.jar:/content/kafka_2.13-2.7.2/bin/../libs/scala-java8-compat_2.13-0.9.1.jar:/content/kafka_2.13-2.7.2/bin/../libs/scala-library-2.13.3.jar:/content/kafka_2.13-2.7.2/bin/../libs/scala-logging_2.13-3.9.2.jar:/content/kafka_2.13-2.7.2/bin/../libs/scala-reflect-2.13.3.jar:/content/kafka_2.13-2.7.2/bin/../libs/slf4j-api-1.7.30.jar:/content/kafka_2.13-2.7.2/bin/../libs/slf4j-log4j12-1.7.30.jar:/content/kafka_2.13-2.7.2/bin/../libs/snappy-java-1.1.7.7.jar:/content/kafka_2.13-2.7.2/bin/../libs/zookeeper-3.5.9.jar:/content/kafka_2.13-2.7.2/bin/../libs/zookeeper-jute-3.5.9.jar:/content/kafka_2.13-2.7.2/bin/../libs/zstd-jni-1.4.5-6.jar kafka.Kafka ./kafka_2.13-2.7.2/config/server.properties\n",
            "root        1087      61  0 12:57 ?        00:00:00 /bin/bash -c ps -ef | grep kafka\n",
            "root        1089    1087  0 12:57 ?        00:00:00 grep kafka\n"
          ]
        }
      ],
      "source": [
        "!ps -ef | grep kafka"
      ]
    },
    {
      "cell_type": "code",
      "execution_count": null,
      "metadata": {
        "colab": {
          "base_uri": "https://localhost:8080/"
        },
        "id": "WvygMewuVsuJ",
        "outputId": "22eb3c01-313e-4a6c-a5ad-12f4be18c8b5"
      },
      "outputs": [
        {
          "output_type": "stream",
          "name": "stdout",
          "text": [
            "Created topic stock.\n"
          ]
        }
      ],
      "source": [
        "!./kafka_2.13-2.7.2/bin/kafka-topics.sh --create --bootstrap-server 127.0.0.1:9092 --replication-factor 1 --partitions 1 --topic stock"
      ]
    },
    {
      "cell_type": "code",
      "execution_count": null,
      "metadata": {
        "colab": {
          "base_uri": "https://localhost:8080/"
        },
        "id": "RQGWaW3RVxLS",
        "outputId": "f765a581-ae89-4a85-a739-3e95c2affd1d"
      },
      "outputs": [
        {
          "output_type": "stream",
          "name": "stdout",
          "text": [
            "Topic: stock\tPartitionCount: 1\tReplicationFactor: 1\tConfigs: segment.bytes=1073741824\n",
            "\tTopic: stock\tPartition: 0\tLeader: 0\tReplicas: 0\tIsr: 0\n"
          ]
        }
      ],
      "source": [
        "!./kafka_2.13-2.7.2/bin/kafka-topics.sh --describe --bootstrap-server 127.0.0.1:9092 --topic stock"
      ]
    },
    {
      "cell_type": "markdown",
      "metadata": {
        "id": "oM9xhLyJV91y"
      },
      "source": [
        "# Dataset"
      ]
    },
    {
      "cell_type": "code",
      "execution_count": null,
      "metadata": {
        "id": "WxZGMJkmV9eC"
      },
      "outputs": [],
      "source": [
        "COLUMNS = [\n",
        "           'Date',\n",
        "           'Symbol',\n",
        "           'Year',\n",
        "           'Month',\n",
        "           'Day',\n",
        "           'Open',\n",
        "           'High',\n",
        "           'Low',\n",
        "           'Close',\n",
        "           'A.C',\n",
        "           'Volume',\n",
        "           'D.A',\n",
        "           'S.C'\n",
        "           ]\n",
        "features = ['Open', 'High', 'Low', 'Volume']\n",
        "NUM_COLUMNS = len(COLUMNS) - 9"
      ]
    },
    {
      "cell_type": "code",
      "execution_count": null,
      "metadata": {
        "colab": {
          "base_uri": "https://localhost:8080/",
          "height": 444
        },
        "id": "N88-eJ-0WT7Z",
        "outputId": "12e40456-ed39-41af-a635-3e599cb761c7"
      },
      "outputs": [
        {
          "output_type": "execute_result",
          "data": {
            "text/html": [
              "\n",
              "  <div id=\"df-458b7b63-1b58-4f7c-a64a-3eb97030cacc\">\n",
              "    <div class=\"colab-df-container\">\n",
              "      <div>\n",
              "<style scoped>\n",
              "    .dataframe tbody tr th:only-of-type {\n",
              "        vertical-align: middle;\n",
              "    }\n",
              "\n",
              "    .dataframe tbody tr th {\n",
              "        vertical-align: top;\n",
              "    }\n",
              "\n",
              "    .dataframe thead th {\n",
              "        text-align: right;\n",
              "    }\n",
              "</style>\n",
              "<table border=\"1\" class=\"dataframe\">\n",
              "  <thead>\n",
              "    <tr style=\"text-align: right;\">\n",
              "      <th></th>\n",
              "      <th>Date</th>\n",
              "      <th>Symbol</th>\n",
              "      <th>Year</th>\n",
              "      <th>Month</th>\n",
              "      <th>Day</th>\n",
              "      <th>Open</th>\n",
              "      <th>High</th>\n",
              "      <th>Low</th>\n",
              "      <th>Close</th>\n",
              "      <th>A.C</th>\n",
              "      <th>Volume</th>\n",
              "      <th>D.A</th>\n",
              "      <th>S.C</th>\n",
              "    </tr>\n",
              "  </thead>\n",
              "  <tbody>\n",
              "    <tr>\n",
              "      <th>5271</th>\n",
              "      <td>8-12-2000 00:00:00</td>\n",
              "      <td>TELA</td>\n",
              "      <td>2000</td>\n",
              "      <td>12</td>\n",
              "      <td>8</td>\n",
              "      <td>15.81</td>\n",
              "      <td>22.88</td>\n",
              "      <td>15.13</td>\n",
              "      <td>20.00</td>\n",
              "      <td>5.343783</td>\n",
              "      <td>8574900.0</td>\n",
              "      <td>0.0</td>\n",
              "      <td>1.0</td>\n",
              "    </tr>\n",
              "    <tr>\n",
              "      <th>5270</th>\n",
              "      <td>11-12-2000 00:00:00</td>\n",
              "      <td>TELA</td>\n",
              "      <td>2000</td>\n",
              "      <td>12</td>\n",
              "      <td>11</td>\n",
              "      <td>22.69</td>\n",
              "      <td>22.75</td>\n",
              "      <td>19.88</td>\n",
              "      <td>21.19</td>\n",
              "      <td>5.661738</td>\n",
              "      <td>1459600.0</td>\n",
              "      <td>0.0</td>\n",
              "      <td>1.0</td>\n",
              "    </tr>\n",
              "    <tr>\n",
              "      <th>5269</th>\n",
              "      <td>12-12-2000 00:00:00</td>\n",
              "      <td>TELA</td>\n",
              "      <td>2000</td>\n",
              "      <td>12</td>\n",
              "      <td>12</td>\n",
              "      <td>21.22</td>\n",
              "      <td>21.25</td>\n",
              "      <td>19.38</td>\n",
              "      <td>19.88</td>\n",
              "      <td>5.311720</td>\n",
              "      <td>538700.0</td>\n",
              "      <td>0.0</td>\n",
              "      <td>1.0</td>\n",
              "    </tr>\n",
              "    <tr>\n",
              "      <th>5268</th>\n",
              "      <td>13-12-2000 00:00:00</td>\n",
              "      <td>TELA</td>\n",
              "      <td>2000</td>\n",
              "      <td>12</td>\n",
              "      <td>13</td>\n",
              "      <td>20.75</td>\n",
              "      <td>20.88</td>\n",
              "      <td>19.75</td>\n",
              "      <td>19.88</td>\n",
              "      <td>5.311720</td>\n",
              "      <td>211200.0</td>\n",
              "      <td>0.0</td>\n",
              "      <td>1.0</td>\n",
              "    </tr>\n",
              "    <tr>\n",
              "      <th>5267</th>\n",
              "      <td>14-12-2000 00:00:00</td>\n",
              "      <td>TELA</td>\n",
              "      <td>2000</td>\n",
              "      <td>12</td>\n",
              "      <td>14</td>\n",
              "      <td>19.98</td>\n",
              "      <td>20.25</td>\n",
              "      <td>19.88</td>\n",
              "      <td>20.13</td>\n",
              "      <td>5.378517</td>\n",
              "      <td>132700.0</td>\n",
              "      <td>0.0</td>\n",
              "      <td>1.0</td>\n",
              "    </tr>\n",
              "  </tbody>\n",
              "</table>\n",
              "</div>\n",
              "      <button class=\"colab-df-convert\" onclick=\"convertToInteractive('df-458b7b63-1b58-4f7c-a64a-3eb97030cacc')\"\n",
              "              title=\"Convert this dataframe to an interactive table.\"\n",
              "              style=\"display:none;\">\n",
              "        \n",
              "  <svg xmlns=\"http://www.w3.org/2000/svg\" height=\"24px\"viewBox=\"0 0 24 24\"\n",
              "       width=\"24px\">\n",
              "    <path d=\"M0 0h24v24H0V0z\" fill=\"none\"/>\n",
              "    <path d=\"M18.56 5.44l.94 2.06.94-2.06 2.06-.94-2.06-.94-.94-2.06-.94 2.06-2.06.94zm-11 1L8.5 8.5l.94-2.06 2.06-.94-2.06-.94L8.5 2.5l-.94 2.06-2.06.94zm10 10l.94 2.06.94-2.06 2.06-.94-2.06-.94-.94-2.06-.94 2.06-2.06.94z\"/><path d=\"M17.41 7.96l-1.37-1.37c-.4-.4-.92-.59-1.43-.59-.52 0-1.04.2-1.43.59L10.3 9.45l-7.72 7.72c-.78.78-.78 2.05 0 2.83L4 21.41c.39.39.9.59 1.41.59.51 0 1.02-.2 1.41-.59l7.78-7.78 2.81-2.81c.8-.78.8-2.07 0-2.86zM5.41 20L4 18.59l7.72-7.72 1.47 1.35L5.41 20z\"/>\n",
              "  </svg>\n",
              "      </button>\n",
              "      \n",
              "  <style>\n",
              "    .colab-df-container {\n",
              "      display:flex;\n",
              "      flex-wrap:wrap;\n",
              "      gap: 12px;\n",
              "    }\n",
              "\n",
              "    .colab-df-convert {\n",
              "      background-color: #E8F0FE;\n",
              "      border: none;\n",
              "      border-radius: 50%;\n",
              "      cursor: pointer;\n",
              "      display: none;\n",
              "      fill: #1967D2;\n",
              "      height: 32px;\n",
              "      padding: 0 0 0 0;\n",
              "      width: 32px;\n",
              "    }\n",
              "\n",
              "    .colab-df-convert:hover {\n",
              "      background-color: #E2EBFA;\n",
              "      box-shadow: 0px 1px 2px rgba(60, 64, 67, 0.3), 0px 1px 3px 1px rgba(60, 64, 67, 0.15);\n",
              "      fill: #174EA6;\n",
              "    }\n",
              "\n",
              "    [theme=dark] .colab-df-convert {\n",
              "      background-color: #3B4455;\n",
              "      fill: #D2E3FC;\n",
              "    }\n",
              "\n",
              "    [theme=dark] .colab-df-convert:hover {\n",
              "      background-color: #434B5C;\n",
              "      box-shadow: 0px 1px 3px 1px rgba(0, 0, 0, 0.15);\n",
              "      filter: drop-shadow(0px 1px 2px rgba(0, 0, 0, 0.3));\n",
              "      fill: #FFFFFF;\n",
              "    }\n",
              "  </style>\n",
              "\n",
              "      <script>\n",
              "        const buttonEl =\n",
              "          document.querySelector('#df-458b7b63-1b58-4f7c-a64a-3eb97030cacc button.colab-df-convert');\n",
              "        buttonEl.style.display =\n",
              "          google.colab.kernel.accessAllowed ? 'block' : 'none';\n",
              "\n",
              "        async function convertToInteractive(key) {\n",
              "          const element = document.querySelector('#df-458b7b63-1b58-4f7c-a64a-3eb97030cacc');\n",
              "          const dataTable =\n",
              "            await google.colab.kernel.invokeFunction('convertToInteractive',\n",
              "                                                     [key], {});\n",
              "          if (!dataTable) return;\n",
              "\n",
              "          const docLinkHtml = 'Like what you see? Visit the ' +\n",
              "            '<a target=\"_blank\" href=https://colab.research.google.com/notebooks/data_table.ipynb>data table notebook</a>'\n",
              "            + ' to learn more about interactive tables.';\n",
              "          element.innerHTML = '';\n",
              "          dataTable['output_type'] = 'display_data';\n",
              "          await google.colab.output.renderOutput(dataTable, element);\n",
              "          const docLink = document.createElement('div');\n",
              "          docLink.innerHTML = docLinkHtml;\n",
              "          element.appendChild(docLink);\n",
              "        }\n",
              "      </script>\n",
              "    </div>\n",
              "  </div>\n",
              "  "
            ],
            "text/plain": [
              "                     Date Symbol  Year  Month  ...       A.C     Volume  D.A  S.C\n",
              "5271   8-12-2000 00:00:00   TELA  2000     12  ...  5.343783  8574900.0  0.0  1.0\n",
              "5270  11-12-2000 00:00:00   TELA  2000     12  ...  5.661738  1459600.0  0.0  1.0\n",
              "5269  12-12-2000 00:00:00   TELA  2000     12  ...  5.311720   538700.0  0.0  1.0\n",
              "5268  13-12-2000 00:00:00   TELA  2000     12  ...  5.311720   211200.0  0.0  1.0\n",
              "5267  14-12-2000 00:00:00   TELA  2000     12  ...  5.378517   132700.0  0.0  1.0\n",
              "\n",
              "[5 rows x 13 columns]"
            ]
          },
          "metadata": {},
          "execution_count": 11
        }
      ],
      "source": [
        "stock_iterator = pd.read_csv('/content/drive/MyDrive/BigDataTest/TELA.csv', header=0, names=COLUMNS, chunksize=100000)\n",
        "stock_df = next(stock_iterator)\n",
        "stock_df = stock_df.iloc[::-1]\n",
        "stock_df.head()"
      ]
    },
    {
      "cell_type": "code",
      "execution_count": null,
      "metadata": {
        "colab": {
          "base_uri": "https://localhost:8080/",
          "height": 206
        },
        "id": "n655y-IliFFf",
        "outputId": "638c42df-d91e-468d-94da-31a6846d048b"
      },
      "outputs": [
        {
          "output_type": "execute_result",
          "data": {
            "text/html": [
              "\n",
              "  <div id=\"df-392831e9-40d5-45a7-abdc-2ff5608b54f5\">\n",
              "    <div class=\"colab-df-container\">\n",
              "      <div>\n",
              "<style scoped>\n",
              "    .dataframe tbody tr th:only-of-type {\n",
              "        vertical-align: middle;\n",
              "    }\n",
              "\n",
              "    .dataframe tbody tr th {\n",
              "        vertical-align: top;\n",
              "    }\n",
              "\n",
              "    .dataframe thead th {\n",
              "        text-align: right;\n",
              "    }\n",
              "</style>\n",
              "<table border=\"1\" class=\"dataframe\">\n",
              "  <thead>\n",
              "    <tr style=\"text-align: right;\">\n",
              "      <th></th>\n",
              "      <th>Open</th>\n",
              "      <th>High</th>\n",
              "      <th>Low</th>\n",
              "      <th>Volume</th>\n",
              "    </tr>\n",
              "  </thead>\n",
              "  <tbody>\n",
              "    <tr>\n",
              "      <th>5271</th>\n",
              "      <td>0.007981</td>\n",
              "      <td>0.051003</td>\n",
              "      <td>0.014921</td>\n",
              "      <td>0.318930</td>\n",
              "    </tr>\n",
              "    <tr>\n",
              "      <th>5270</th>\n",
              "      <td>0.049899</td>\n",
              "      <td>0.050211</td>\n",
              "      <td>0.044087</td>\n",
              "      <td>0.053926</td>\n",
              "    </tr>\n",
              "    <tr>\n",
              "      <th>5269</th>\n",
              "      <td>0.040943</td>\n",
              "      <td>0.041082</td>\n",
              "      <td>0.041017</td>\n",
              "      <td>0.019628</td>\n",
              "    </tr>\n",
              "    <tr>\n",
              "      <th>5268</th>\n",
              "      <td>0.038080</td>\n",
              "      <td>0.038830</td>\n",
              "      <td>0.043289</td>\n",
              "      <td>0.007430</td>\n",
              "    </tr>\n",
              "    <tr>\n",
              "      <th>5267</th>\n",
              "      <td>0.033388</td>\n",
              "      <td>0.034996</td>\n",
              "      <td>0.044087</td>\n",
              "      <td>0.004507</td>\n",
              "    </tr>\n",
              "  </tbody>\n",
              "</table>\n",
              "</div>\n",
              "      <button class=\"colab-df-convert\" onclick=\"convertToInteractive('df-392831e9-40d5-45a7-abdc-2ff5608b54f5')\"\n",
              "              title=\"Convert this dataframe to an interactive table.\"\n",
              "              style=\"display:none;\">\n",
              "        \n",
              "  <svg xmlns=\"http://www.w3.org/2000/svg\" height=\"24px\"viewBox=\"0 0 24 24\"\n",
              "       width=\"24px\">\n",
              "    <path d=\"M0 0h24v24H0V0z\" fill=\"none\"/>\n",
              "    <path d=\"M18.56 5.44l.94 2.06.94-2.06 2.06-.94-2.06-.94-.94-2.06-.94 2.06-2.06.94zm-11 1L8.5 8.5l.94-2.06 2.06-.94-2.06-.94L8.5 2.5l-.94 2.06-2.06.94zm10 10l.94 2.06.94-2.06 2.06-.94-2.06-.94-.94-2.06-.94 2.06-2.06.94z\"/><path d=\"M17.41 7.96l-1.37-1.37c-.4-.4-.92-.59-1.43-.59-.52 0-1.04.2-1.43.59L10.3 9.45l-7.72 7.72c-.78.78-.78 2.05 0 2.83L4 21.41c.39.39.9.59 1.41.59.51 0 1.02-.2 1.41-.59l7.78-7.78 2.81-2.81c.8-.78.8-2.07 0-2.86zM5.41 20L4 18.59l7.72-7.72 1.47 1.35L5.41 20z\"/>\n",
              "  </svg>\n",
              "      </button>\n",
              "      \n",
              "  <style>\n",
              "    .colab-df-container {\n",
              "      display:flex;\n",
              "      flex-wrap:wrap;\n",
              "      gap: 12px;\n",
              "    }\n",
              "\n",
              "    .colab-df-convert {\n",
              "      background-color: #E8F0FE;\n",
              "      border: none;\n",
              "      border-radius: 50%;\n",
              "      cursor: pointer;\n",
              "      display: none;\n",
              "      fill: #1967D2;\n",
              "      height: 32px;\n",
              "      padding: 0 0 0 0;\n",
              "      width: 32px;\n",
              "    }\n",
              "\n",
              "    .colab-df-convert:hover {\n",
              "      background-color: #E2EBFA;\n",
              "      box-shadow: 0px 1px 2px rgba(60, 64, 67, 0.3), 0px 1px 3px 1px rgba(60, 64, 67, 0.15);\n",
              "      fill: #174EA6;\n",
              "    }\n",
              "\n",
              "    [theme=dark] .colab-df-convert {\n",
              "      background-color: #3B4455;\n",
              "      fill: #D2E3FC;\n",
              "    }\n",
              "\n",
              "    [theme=dark] .colab-df-convert:hover {\n",
              "      background-color: #434B5C;\n",
              "      box-shadow: 0px 1px 3px 1px rgba(0, 0, 0, 0.15);\n",
              "      filter: drop-shadow(0px 1px 2px rgba(0, 0, 0, 0.3));\n",
              "      fill: #FFFFFF;\n",
              "    }\n",
              "  </style>\n",
              "\n",
              "      <script>\n",
              "        const buttonEl =\n",
              "          document.querySelector('#df-392831e9-40d5-45a7-abdc-2ff5608b54f5 button.colab-df-convert');\n",
              "        buttonEl.style.display =\n",
              "          google.colab.kernel.accessAllowed ? 'block' : 'none';\n",
              "\n",
              "        async function convertToInteractive(key) {\n",
              "          const element = document.querySelector('#df-392831e9-40d5-45a7-abdc-2ff5608b54f5');\n",
              "          const dataTable =\n",
              "            await google.colab.kernel.invokeFunction('convertToInteractive',\n",
              "                                                     [key], {});\n",
              "          if (!dataTable) return;\n",
              "\n",
              "          const docLinkHtml = 'Like what you see? Visit the ' +\n",
              "            '<a target=\"_blank\" href=https://colab.research.google.com/notebooks/data_table.ipynb>data table notebook</a>'\n",
              "            + ' to learn more about interactive tables.';\n",
              "          element.innerHTML = '';\n",
              "          dataTable['output_type'] = 'display_data';\n",
              "          await google.colab.output.renderOutput(dataTable, element);\n",
              "          const docLink = document.createElement('div');\n",
              "          docLink.innerHTML = docLinkHtml;\n",
              "          element.appendChild(docLink);\n",
              "        }\n",
              "      </script>\n",
              "    </div>\n",
              "  </div>\n",
              "  "
            ],
            "text/plain": [
              "          Open      High       Low    Volume\n",
              "5271  0.007981  0.051003  0.014921  0.318930\n",
              "5270  0.049899  0.050211  0.044087  0.053926\n",
              "5269  0.040943  0.041082  0.041017  0.019628\n",
              "5268  0.038080  0.038830  0.043289  0.007430\n",
              "5267  0.033388  0.034996  0.044087  0.004507"
            ]
          },
          "metadata": {},
          "execution_count": 12
        }
      ],
      "source": [
        "scaler = MinMaxScaler()\n",
        "feature_transform = scaler.fit_transform(stock_df[features])\n",
        "feature_transform= pd.DataFrame(columns=features, data=feature_transform, index=stock_df.index)\n",
        "feature_transform.head()"
      ]
    },
    {
      "cell_type": "code",
      "execution_count": null,
      "metadata": {
        "colab": {
          "base_uri": "https://localhost:8080/"
        },
        "id": "V7CYzedPWgXE",
        "outputId": "637be0a9-76c3-4546-9309-3e7efa747629"
      },
      "outputs": [
        {
          "output_type": "execute_result",
          "data": {
            "text/plain": [
              "(5272, 13)"
            ]
          },
          "metadata": {},
          "execution_count": 13
        }
      ],
      "source": [
        "# Number of datapoints and columns\n",
        "len(stock_df), len(stock_df.columns)"
      ]
    },
    {
      "cell_type": "code",
      "execution_count": null,
      "metadata": {
        "id": "qG6QPXxaXewD"
      },
      "outputs": [],
      "source": [
        "# Có thể drop tiếp các x_df nếu không muốn sử dụng thêm một số feature, tuy nhiên\n",
        "# cần phải sửa lại mô hình\n",
        "# x_df = stock_df.drop([\"Date\", \"Symbol\", \"Year\", \"Month\", \"Day\", \"D.A\", \"S.C\"], axis=1)\n",
        "x_df = feature_transform\n",
        "# Không cần để ý y_df\n",
        "y_df = stock_df[[\"Year\", \"Month\", \"Day\", \"A.C\"]]"
      ]
    },
    {
      "cell_type": "code",
      "execution_count": null,
      "metadata": {
        "id": "YNkyXtfOZrDr"
      },
      "outputs": [],
      "source": [
        "x_list = list(filter(None, x_df.to_csv(index=False).split(\"\\n\")[1:]))\n",
        "y_list = list(filter(None, y_df.to_csv(index=False).split(\"\\n\")[1:]))"
      ]
    },
    {
      "cell_type": "markdown",
      "metadata": {
        "id": "J78Rx5aFWsNy"
      },
      "source": [
        "# Write to Kafka"
      ]
    },
    {
      "cell_type": "code",
      "execution_count": null,
      "metadata": {
        "colab": {
          "base_uri": "https://localhost:8080/"
        },
        "id": "FnPt-yF-WuKJ",
        "outputId": "5bc4ea00-2ee6-4c81-b2eb-5da63a415432"
      },
      "outputs": [
        {
          "output_type": "stream",
          "name": "stdout",
          "text": [
            "Wrote 5272 messages into topic: stock\n"
          ]
        }
      ],
      "source": [
        "def error_callback(exc):\n",
        "    raise Exception('Error while sendig data to kafka: {0}'.format(str(exc)))\n",
        "\n",
        "def write_to_kafka(topic_name, items):\n",
        "  count=0\n",
        "  producer = KafkaProducer(bootstrap_servers=['127.0.0.1:9092'])\n",
        "  for message, key in items:\n",
        "    producer.send(topic_name, key=key.encode('utf-8'), value=message.encode('utf-8')).add_errback(error_callback)\n",
        "    count+=1\n",
        "  producer.flush()\n",
        "  print(\"Wrote {0} messages into topic: {1}\".format(count, topic_name))\n",
        "\n",
        "write_to_kafka(\"stock\", [(x_list[i], y_list[i]) for i in range(len(x_list))])"
      ]
    },
    {
      "cell_type": "markdown",
      "metadata": {
        "id": "t4RLdlc6Z7cz"
      },
      "source": [
        "# Get messages from Kafka"
      ]
    },
    {
      "cell_type": "code",
      "execution_count": null,
      "metadata": {
        "id": "3LlHzHuVaHjE"
      },
      "outputs": [],
      "source": [
        "train_ds = tfio.IODataset.from_kafka('stock', partition=0, offset=0)"
      ]
    },
    {
      "cell_type": "code",
      "execution_count": null,
      "metadata": {
        "id": "XYzW-1xtbXMd"
      },
      "outputs": [],
      "source": [
        "counter = 0\n",
        "train = []\n",
        "label = []\n",
        "for x in train_ds:\n",
        "  if counter == 0:\n",
        "    counter += 1\n",
        "    continue\n",
        "  a = tf.io.decode_csv(x.message, [[0.0] for i in range(NUM_COLUMNS)])\n",
        "  b = tf.io.decode_csv(x.key, [[0.0] for i in range(NUM_COLUMNS)])\n",
        "  a =  tf.reshape(a, (1, 4), name=None)\n",
        "  b = tf.reshape(b[3], (1, 1), name=None)\n",
        "  train.append(a)\n",
        "  label.append(b)"
      ]
    },
    {
      "cell_type": "markdown",
      "metadata": {
        "id": "j3Sw7xdbch4M"
      },
      "source": [
        "# Train model"
      ]
    },
    {
      "cell_type": "markdown",
      "metadata": {
        "id": "inKHGzgScmuT"
      },
      "source": [
        "## Split data"
      ]
    },
    {
      "cell_type": "code",
      "execution_count": null,
      "metadata": {
        "id": "aG2cT3yCdc_m"
      },
      "outputs": [],
      "source": [
        "#Splitting to Training set and Test set\n",
        "timesplit= TimeSeriesSplit(n_splits=8)\n",
        "for train_index, test_index in timesplit.split(train):\n",
        "        X_train_list, X_test_list = train[:len(train_index)], train[len(train_index): (len(train_index)+len(test_index))]\n",
        "        y_train_list, y_test_list = label[:len(train_index)], label[len(train_index): (len(train_index)+len(test_index))]     "
      ]
    },
    {
      "cell_type": "code",
      "execution_count": null,
      "metadata": {
        "id": "NTdiYOu8m6e0"
      },
      "outputs": [],
      "source": [
        "X_train = tf.convert_to_tensor(X_train_list, dtype=None, dtype_hint=None, name=None)\n",
        "y_train = tf.convert_to_tensor(y_train_list, dtype=None, dtype_hint=None, name=None)\n",
        "X_test = tf.convert_to_tensor(X_test_list, dtype=None, dtype_hint=None, name=None)\n",
        "y_test = tf.convert_to_tensor(y_test_list, dtype=None, dtype_hint=None, name=None)"
      ]
    },
    {
      "cell_type": "markdown",
      "metadata": {
        "id": "8fi0Xnn5grli"
      },
      "source": [
        "## Model"
      ]
    },
    {
      "cell_type": "code",
      "execution_count": null,
      "metadata": {
        "colab": {
          "base_uri": "https://localhost:8080/",
          "height": 312
        },
        "id": "IcErUBoSgtWD",
        "outputId": "d24473a0-d6de-435e-8d25-cc06169ae5b1"
      },
      "outputs": [
        {
          "output_type": "execute_result",
          "data": {
            "image/png": "[encoded data removed]",
            "text/plain": [
              "<IPython.core.display.Image object>"
            ]
          },
          "metadata": {},
          "execution_count": 21
        }
      ],
      "source": [
        "#Building the LSTM Model\n",
        "# Có thể thử nghiệm thêm về các mô hình mạng khác\n",
        "lstm = Sequential()\n",
        "# Chú ý về input shape cần thay đổi\n",
        "lstm.add(LSTM(24, input_shape=(1, 4), activation='softmax', return_sequences=False))\n",
        "lstm.add(Dense(1, activation='relu'))\n",
        "# lstm.build()\n",
        "lstm.compile(loss='mean_squared_error', optimizer='adam')\n",
        "plot_model(lstm, show_shapes=True, show_layer_names=True)"
      ]
    },
    {
      "cell_type": "markdown",
      "metadata": {
        "id": "mc20EK9khQVs"
      },
      "source": [
        "## Training"
      ]
    },
    {
      "cell_type": "code",
      "execution_count": null,
      "metadata": {
        "colab": {
          "base_uri": "https://localhost:8080/",
          "height": 762
        },
        "id": "iCPOFjgQhSIq",
        "outputId": "4b523801-c1b0-4422-cc4f-237bf6d4ea4e"
      },
      "outputs": [
        {
          "output_type": "stream",
          "name": "stdout",
          "text": [
            "Epoch 1/300\n",
            "147/147 [==============================] - 0s 2ms/step - loss: 1077.1406\n",
            "Epoch 2/300\n",
            "147/147 [==============================] - 0s 3ms/step - loss: 1077.1406\n",
            "Epoch 3/300\n",
            "147/147 [==============================] - 0s 3ms/step - loss: 1077.1406\n",
            "Epoch 4/300\n",
            "147/147 [==============================] - 0s 2ms/step - loss: 1077.1406\n",
            "Epoch 5/300\n",
            "147/147 [==============================] - 0s 3ms/step - loss: 1077.1406\n",
            "Epoch 6/300\n",
            "147/147 [==============================] - 0s 3ms/step - loss: 1077.1406\n",
            "Epoch 7/300\n",
            "147/147 [==============================] - 0s 2ms/step - loss: 1077.1406\n",
            "Epoch 8/300\n",
            "147/147 [==============================] - 0s 2ms/step - loss: 1077.1406\n",
            "Epoch 9/300\n",
            "147/147 [==============================] - 0s 2ms/step - loss: 1077.1406\n",
            "Epoch 10/300\n",
            "147/147 [==============================] - 0s 2ms/step - loss: 1077.1406\n",
            "Epoch 11/300\n",
            "  1/147 [..............................] - ETA: 0s - loss: 5783.8320"
          ]
        },
        {
          "output_type": "error",
          "ename": "KeyboardInterrupt",
          "evalue": "ignored",
          "traceback": [
            "\u001b[0;31m---------------------------------------------------------------------------\u001b[0m",
            "\u001b[0;31mKeyboardInterrupt\u001b[0m                         Traceback (most recent call last)",
            "\u001b[0;32m<ipython-input-24-526ddeb2b849>\u001b[0m in \u001b[0;36m<module>\u001b[0;34m()\u001b[0m\n\u001b[1;32m      1\u001b[0m \u001b[0;31m# Cần thay đổi batch_size để học tốt hơn, batch size càng nhỏ học càng tốt và kết quả sẽ tốt hơn, nhỏ quá sẽ bị overfit\u001b[0m\u001b[0;34m\u001b[0m\u001b[0;34m\u001b[0m\u001b[0;34m\u001b[0m\u001b[0m\n\u001b[0;32m----> 2\u001b[0;31m \u001b[0mhistory\u001b[0m\u001b[0;34m=\u001b[0m\u001b[0mlstm\u001b[0m\u001b[0;34m.\u001b[0m\u001b[0mfit\u001b[0m\u001b[0;34m(\u001b[0m\u001b[0mX_train\u001b[0m\u001b[0;34m,\u001b[0m \u001b[0my_train\u001b[0m\u001b[0;34m,\u001b[0m \u001b[0mepochs\u001b[0m\u001b[0;34m=\u001b[0m\u001b[0;36m300\u001b[0m\u001b[0;34m,\u001b[0m \u001b[0mverbose\u001b[0m\u001b[0;34m=\u001b[0m\u001b[0;36m1\u001b[0m\u001b[0;34m,\u001b[0m \u001b[0mshuffle\u001b[0m\u001b[0;34m=\u001b[0m\u001b[0;32mFalse\u001b[0m\u001b[0;34m)\u001b[0m\u001b[0;34m\u001b[0m\u001b[0;34m\u001b[0m\u001b[0m\n\u001b[0m",
            "\u001b[0;32m/usr/local/lib/python3.7/dist-packages/keras/utils/traceback_utils.py\u001b[0m in \u001b[0;36merror_handler\u001b[0;34m(*args, **kwargs)\u001b[0m\n\u001b[1;32m     62\u001b[0m     \u001b[0mfiltered_tb\u001b[0m \u001b[0;34m=\u001b[0m \u001b[0;32mNone\u001b[0m\u001b[0;34m\u001b[0m\u001b[0;34m\u001b[0m\u001b[0m\n\u001b[1;32m     63\u001b[0m     \u001b[0;32mtry\u001b[0m\u001b[0;34m:\u001b[0m\u001b[0;34m\u001b[0m\u001b[0;34m\u001b[0m\u001b[0m\n\u001b[0;32m---> 64\u001b[0;31m       \u001b[0;32mreturn\u001b[0m \u001b[0mfn\u001b[0m\u001b[0;34m(\u001b[0m\u001b[0;34m*\u001b[0m\u001b[0margs\u001b[0m\u001b[0;34m,\u001b[0m \u001b[0;34m**\u001b[0m\u001b[0mkwargs\u001b[0m\u001b[0;34m)\u001b[0m\u001b[0;34m\u001b[0m\u001b[0;34m\u001b[0m\u001b[0m\n\u001b[0m\u001b[1;32m     65\u001b[0m     \u001b[0;32mexcept\u001b[0m \u001b[0mException\u001b[0m \u001b[0;32mas\u001b[0m \u001b[0me\u001b[0m\u001b[0;34m:\u001b[0m  \u001b[0;31m# pylint: disable=broad-except\u001b[0m\u001b[0;34m\u001b[0m\u001b[0;34m\u001b[0m\u001b[0m\n\u001b[1;32m     66\u001b[0m       \u001b[0mfiltered_tb\u001b[0m \u001b[0;34m=\u001b[0m \u001b[0m_process_traceback_frames\u001b[0m\u001b[0;34m(\u001b[0m\u001b[0me\u001b[0m\u001b[0;34m.\u001b[0m\u001b[0m__traceback__\u001b[0m\u001b[0;34m)\u001b[0m\u001b[0;34m\u001b[0m\u001b[0;34m\u001b[0m\u001b[0m\n",
            "\u001b[0;32m/usr/local/lib/python3.7/dist-packages/keras/engine/training.py\u001b[0m in \u001b[0;36mfit\u001b[0;34m(self, x, y, batch_size, epochs, verbose, callbacks, validation_split, validation_data, shuffle, class_weight, sample_weight, initial_epoch, steps_per_epoch, validation_steps, validation_batch_size, validation_freq, max_queue_size, workers, use_multiprocessing)\u001b[0m\n\u001b[1;32m   1219\u001b[0m               \u001b[0mlogs\u001b[0m \u001b[0;34m=\u001b[0m \u001b[0mtmp_logs\u001b[0m  \u001b[0;31m# No error, now safe to assign to logs.\u001b[0m\u001b[0;34m\u001b[0m\u001b[0;34m\u001b[0m\u001b[0m\n\u001b[1;32m   1220\u001b[0m               \u001b[0mend_step\u001b[0m \u001b[0;34m=\u001b[0m \u001b[0mstep\u001b[0m \u001b[0;34m+\u001b[0m \u001b[0mdata_handler\u001b[0m\u001b[0;34m.\u001b[0m\u001b[0mstep_increment\u001b[0m\u001b[0;34m\u001b[0m\u001b[0;34m\u001b[0m\u001b[0m\n\u001b[0;32m-> 1221\u001b[0;31m               \u001b[0mcallbacks\u001b[0m\u001b[0;34m.\u001b[0m\u001b[0mon_train_batch_end\u001b[0m\u001b[0;34m(\u001b[0m\u001b[0mend_step\u001b[0m\u001b[0;34m,\u001b[0m \u001b[0mlogs\u001b[0m\u001b[0;34m)\u001b[0m\u001b[0;34m\u001b[0m\u001b[0;34m\u001b[0m\u001b[0m\n\u001b[0m\u001b[1;32m   1222\u001b[0m               \u001b[0;32mif\u001b[0m \u001b[0mself\u001b[0m\u001b[0;34m.\u001b[0m\u001b[0mstop_training\u001b[0m\u001b[0;34m:\u001b[0m\u001b[0;34m\u001b[0m\u001b[0;34m\u001b[0m\u001b[0m\n\u001b[1;32m   1223\u001b[0m                 \u001b[0;32mbreak\u001b[0m\u001b[0;34m\u001b[0m\u001b[0;34m\u001b[0m\u001b[0m\n",
            "\u001b[0;32m/usr/local/lib/python3.7/dist-packages/keras/callbacks.py\u001b[0m in \u001b[0;36mon_train_batch_end\u001b[0;34m(self, batch, logs)\u001b[0m\n\u001b[1;32m    434\u001b[0m     \"\"\"\n\u001b[1;32m    435\u001b[0m     \u001b[0;32mif\u001b[0m \u001b[0mself\u001b[0m\u001b[0;34m.\u001b[0m\u001b[0m_should_call_train_batch_hooks\u001b[0m\u001b[0;34m:\u001b[0m\u001b[0;34m\u001b[0m\u001b[0;34m\u001b[0m\u001b[0m\n\u001b[0;32m--> 436\u001b[0;31m       \u001b[0mself\u001b[0m\u001b[0;34m.\u001b[0m\u001b[0m_call_batch_hook\u001b[0m\u001b[0;34m(\u001b[0m\u001b[0mModeKeys\u001b[0m\u001b[0;34m.\u001b[0m\u001b[0mTRAIN\u001b[0m\u001b[0;34m,\u001b[0m \u001b[0;34m'end'\u001b[0m\u001b[0;34m,\u001b[0m \u001b[0mbatch\u001b[0m\u001b[0;34m,\u001b[0m \u001b[0mlogs\u001b[0m\u001b[0;34m=\u001b[0m\u001b[0mlogs\u001b[0m\u001b[0;34m)\u001b[0m\u001b[0;34m\u001b[0m\u001b[0;34m\u001b[0m\u001b[0m\n\u001b[0m\u001b[1;32m    437\u001b[0m \u001b[0;34m\u001b[0m\u001b[0m\n\u001b[1;32m    438\u001b[0m   \u001b[0;32mdef\u001b[0m \u001b[0mon_test_batch_begin\u001b[0m\u001b[0;34m(\u001b[0m\u001b[0mself\u001b[0m\u001b[0;34m,\u001b[0m \u001b[0mbatch\u001b[0m\u001b[0;34m,\u001b[0m \u001b[0mlogs\u001b[0m\u001b[0;34m=\u001b[0m\u001b[0;32mNone\u001b[0m\u001b[0;34m)\u001b[0m\u001b[0;34m:\u001b[0m\u001b[0;34m\u001b[0m\u001b[0;34m\u001b[0m\u001b[0m\n",
            "\u001b[0;32m/usr/local/lib/python3.7/dist-packages/keras/callbacks.py\u001b[0m in \u001b[0;36m_call_batch_hook\u001b[0;34m(self, mode, hook, batch, logs)\u001b[0m\n\u001b[1;32m    293\u001b[0m       \u001b[0mself\u001b[0m\u001b[0;34m.\u001b[0m\u001b[0m_call_batch_begin_hook\u001b[0m\u001b[0;34m(\u001b[0m\u001b[0mmode\u001b[0m\u001b[0;34m,\u001b[0m \u001b[0mbatch\u001b[0m\u001b[0;34m,\u001b[0m \u001b[0mlogs\u001b[0m\u001b[0;34m)\u001b[0m\u001b[0;34m\u001b[0m\u001b[0;34m\u001b[0m\u001b[0m\n\u001b[1;32m    294\u001b[0m     \u001b[0;32melif\u001b[0m \u001b[0mhook\u001b[0m \u001b[0;34m==\u001b[0m \u001b[0;34m'end'\u001b[0m\u001b[0;34m:\u001b[0m\u001b[0;34m\u001b[0m\u001b[0;34m\u001b[0m\u001b[0m\n\u001b[0;32m--> 295\u001b[0;31m       \u001b[0mself\u001b[0m\u001b[0;34m.\u001b[0m\u001b[0m_call_batch_end_hook\u001b[0m\u001b[0;34m(\u001b[0m\u001b[0mmode\u001b[0m\u001b[0;34m,\u001b[0m \u001b[0mbatch\u001b[0m\u001b[0;34m,\u001b[0m \u001b[0mlogs\u001b[0m\u001b[0;34m)\u001b[0m\u001b[0;34m\u001b[0m\u001b[0;34m\u001b[0m\u001b[0m\n\u001b[0m\u001b[1;32m    296\u001b[0m     \u001b[0;32melse\u001b[0m\u001b[0;34m:\u001b[0m\u001b[0;34m\u001b[0m\u001b[0;34m\u001b[0m\u001b[0m\n\u001b[1;32m    297\u001b[0m       raise ValueError(\n",
            "\u001b[0;32m/usr/local/lib/python3.7/dist-packages/keras/callbacks.py\u001b[0m in \u001b[0;36m_call_batch_end_hook\u001b[0;34m(self, mode, batch, logs)\u001b[0m\n\u001b[1;32m    314\u001b[0m       \u001b[0mself\u001b[0m\u001b[0;34m.\u001b[0m\u001b[0m_batch_times\u001b[0m\u001b[0;34m.\u001b[0m\u001b[0mappend\u001b[0m\u001b[0;34m(\u001b[0m\u001b[0mbatch_time\u001b[0m\u001b[0;34m)\u001b[0m\u001b[0;34m\u001b[0m\u001b[0;34m\u001b[0m\u001b[0m\n\u001b[1;32m    315\u001b[0m \u001b[0;34m\u001b[0m\u001b[0m\n\u001b[0;32m--> 316\u001b[0;31m     \u001b[0mself\u001b[0m\u001b[0;34m.\u001b[0m\u001b[0m_call_batch_hook_helper\u001b[0m\u001b[0;34m(\u001b[0m\u001b[0mhook_name\u001b[0m\u001b[0;34m,\u001b[0m \u001b[0mbatch\u001b[0m\u001b[0;34m,\u001b[0m \u001b[0mlogs\u001b[0m\u001b[0;34m)\u001b[0m\u001b[0;34m\u001b[0m\u001b[0;34m\u001b[0m\u001b[0m\n\u001b[0m\u001b[1;32m    317\u001b[0m \u001b[0;34m\u001b[0m\u001b[0m\n\u001b[1;32m    318\u001b[0m     \u001b[0;32mif\u001b[0m \u001b[0mlen\u001b[0m\u001b[0;34m(\u001b[0m\u001b[0mself\u001b[0m\u001b[0;34m.\u001b[0m\u001b[0m_batch_times\u001b[0m\u001b[0;34m)\u001b[0m \u001b[0;34m>=\u001b[0m \u001b[0mself\u001b[0m\u001b[0;34m.\u001b[0m\u001b[0m_num_batches_for_timing_check\u001b[0m\u001b[0;34m:\u001b[0m\u001b[0;34m\u001b[0m\u001b[0;34m\u001b[0m\u001b[0m\n",
            "\u001b[0;32m/usr/local/lib/python3.7/dist-packages/keras/callbacks.py\u001b[0m in \u001b[0;36m_call_batch_hook_helper\u001b[0;34m(self, hook_name, batch, logs)\u001b[0m\n\u001b[1;32m    352\u001b[0m     \u001b[0;32mfor\u001b[0m \u001b[0mcallback\u001b[0m \u001b[0;32min\u001b[0m \u001b[0mself\u001b[0m\u001b[0;34m.\u001b[0m\u001b[0mcallbacks\u001b[0m\u001b[0;34m:\u001b[0m\u001b[0;34m\u001b[0m\u001b[0;34m\u001b[0m\u001b[0m\n\u001b[1;32m    353\u001b[0m       \u001b[0mhook\u001b[0m \u001b[0;34m=\u001b[0m \u001b[0mgetattr\u001b[0m\u001b[0;34m(\u001b[0m\u001b[0mcallback\u001b[0m\u001b[0;34m,\u001b[0m \u001b[0mhook_name\u001b[0m\u001b[0;34m)\u001b[0m\u001b[0;34m\u001b[0m\u001b[0;34m\u001b[0m\u001b[0m\n\u001b[0;32m--> 354\u001b[0;31m       \u001b[0mhook\u001b[0m\u001b[0;34m(\u001b[0m\u001b[0mbatch\u001b[0m\u001b[0;34m,\u001b[0m \u001b[0mlogs\u001b[0m\u001b[0;34m)\u001b[0m\u001b[0;34m\u001b[0m\u001b[0;34m\u001b[0m\u001b[0m\n\u001b[0m\u001b[1;32m    355\u001b[0m \u001b[0;34m\u001b[0m\u001b[0m\n\u001b[1;32m    356\u001b[0m     \u001b[0;32mif\u001b[0m \u001b[0mself\u001b[0m\u001b[0;34m.\u001b[0m\u001b[0m_check_timing\u001b[0m\u001b[0;34m:\u001b[0m\u001b[0;34m\u001b[0m\u001b[0;34m\u001b[0m\u001b[0m\n",
            "\u001b[0;32m/usr/local/lib/python3.7/dist-packages/keras/callbacks.py\u001b[0m in \u001b[0;36mon_train_batch_end\u001b[0;34m(self, batch, logs)\u001b[0m\n\u001b[1;32m   1030\u001b[0m \u001b[0;34m\u001b[0m\u001b[0m\n\u001b[1;32m   1031\u001b[0m   \u001b[0;32mdef\u001b[0m \u001b[0mon_train_batch_end\u001b[0m\u001b[0;34m(\u001b[0m\u001b[0mself\u001b[0m\u001b[0;34m,\u001b[0m \u001b[0mbatch\u001b[0m\u001b[0;34m,\u001b[0m \u001b[0mlogs\u001b[0m\u001b[0;34m=\u001b[0m\u001b[0;32mNone\u001b[0m\u001b[0;34m)\u001b[0m\u001b[0;34m:\u001b[0m\u001b[0;34m\u001b[0m\u001b[0;34m\u001b[0m\u001b[0m\n\u001b[0;32m-> 1032\u001b[0;31m     \u001b[0mself\u001b[0m\u001b[0;34m.\u001b[0m\u001b[0m_batch_update_progbar\u001b[0m\u001b[0;34m(\u001b[0m\u001b[0mbatch\u001b[0m\u001b[0;34m,\u001b[0m \u001b[0mlogs\u001b[0m\u001b[0;34m)\u001b[0m\u001b[0;34m\u001b[0m\u001b[0;34m\u001b[0m\u001b[0m\n\u001b[0m\u001b[1;32m   1033\u001b[0m \u001b[0;34m\u001b[0m\u001b[0m\n\u001b[1;32m   1034\u001b[0m   \u001b[0;32mdef\u001b[0m \u001b[0mon_test_batch_end\u001b[0m\u001b[0;34m(\u001b[0m\u001b[0mself\u001b[0m\u001b[0;34m,\u001b[0m \u001b[0mbatch\u001b[0m\u001b[0;34m,\u001b[0m \u001b[0mlogs\u001b[0m\u001b[0;34m=\u001b[0m\u001b[0;32mNone\u001b[0m\u001b[0;34m)\u001b[0m\u001b[0;34m:\u001b[0m\u001b[0;34m\u001b[0m\u001b[0;34m\u001b[0m\u001b[0m\n",
            "\u001b[0;32m/usr/local/lib/python3.7/dist-packages/keras/callbacks.py\u001b[0m in \u001b[0;36m_batch_update_progbar\u001b[0;34m(self, batch, logs)\u001b[0m\n\u001b[1;32m   1102\u001b[0m     \u001b[0;32mif\u001b[0m \u001b[0mself\u001b[0m\u001b[0;34m.\u001b[0m\u001b[0mverbose\u001b[0m \u001b[0;34m==\u001b[0m \u001b[0;36m1\u001b[0m\u001b[0;34m:\u001b[0m\u001b[0;34m\u001b[0m\u001b[0;34m\u001b[0m\u001b[0m\n\u001b[1;32m   1103\u001b[0m       \u001b[0;31m# Only block async when verbose = 1.\u001b[0m\u001b[0;34m\u001b[0m\u001b[0;34m\u001b[0m\u001b[0;34m\u001b[0m\u001b[0m\n\u001b[0;32m-> 1104\u001b[0;31m       \u001b[0mlogs\u001b[0m \u001b[0;34m=\u001b[0m \u001b[0mtf_utils\u001b[0m\u001b[0;34m.\u001b[0m\u001b[0msync_to_numpy_or_python_type\u001b[0m\u001b[0;34m(\u001b[0m\u001b[0mlogs\u001b[0m\u001b[0;34m)\u001b[0m\u001b[0;34m\u001b[0m\u001b[0;34m\u001b[0m\u001b[0m\n\u001b[0m\u001b[1;32m   1105\u001b[0m       \u001b[0mself\u001b[0m\u001b[0;34m.\u001b[0m\u001b[0mprogbar\u001b[0m\u001b[0;34m.\u001b[0m\u001b[0mupdate\u001b[0m\u001b[0;34m(\u001b[0m\u001b[0mself\u001b[0m\u001b[0;34m.\u001b[0m\u001b[0mseen\u001b[0m\u001b[0;34m,\u001b[0m \u001b[0mlist\u001b[0m\u001b[0;34m(\u001b[0m\u001b[0mlogs\u001b[0m\u001b[0;34m.\u001b[0m\u001b[0mitems\u001b[0m\u001b[0;34m(\u001b[0m\u001b[0;34m)\u001b[0m\u001b[0;34m)\u001b[0m\u001b[0;34m,\u001b[0m \u001b[0mfinalize\u001b[0m\u001b[0;34m=\u001b[0m\u001b[0;32mFalse\u001b[0m\u001b[0;34m)\u001b[0m\u001b[0;34m\u001b[0m\u001b[0;34m\u001b[0m\u001b[0m\n\u001b[1;32m   1106\u001b[0m \u001b[0;34m\u001b[0m\u001b[0m\n",
            "\u001b[0;32m/usr/local/lib/python3.7/dist-packages/keras/utils/tf_utils.py\u001b[0m in \u001b[0;36msync_to_numpy_or_python_type\u001b[0;34m(tensors)\u001b[0m\n\u001b[1;32m    543\u001b[0m     \u001b[0mtensors\u001b[0m \u001b[0mare\u001b[0m \u001b[0mconverted\u001b[0m \u001b[0mto\u001b[0m \u001b[0mNumpy\u001b[0m \u001b[0marrays\u001b[0m\u001b[0;34m.\u001b[0m\u001b[0;34m\u001b[0m\u001b[0;34m\u001b[0m\u001b[0m\n\u001b[1;32m    544\u001b[0m   \"\"\"\n\u001b[0;32m--> 545\u001b[0;31m   \u001b[0;32mif\u001b[0m \u001b[0misinstance\u001b[0m\u001b[0;34m(\u001b[0m\u001b[0mtensors\u001b[0m\u001b[0;34m,\u001b[0m \u001b[0mtf\u001b[0m\u001b[0;34m.\u001b[0m\u001b[0mdistribute\u001b[0m\u001b[0;34m.\u001b[0m\u001b[0mexperimental\u001b[0m\u001b[0;34m.\u001b[0m\u001b[0mcoordinator\u001b[0m\u001b[0;34m.\u001b[0m\u001b[0mRemoteValue\u001b[0m\u001b[0;34m)\u001b[0m\u001b[0;34m:\u001b[0m\u001b[0;34m\u001b[0m\u001b[0;34m\u001b[0m\u001b[0m\n\u001b[0m\u001b[1;32m    546\u001b[0m     \u001b[0;32mreturn\u001b[0m \u001b[0mtensors\u001b[0m\u001b[0;34m.\u001b[0m\u001b[0mfetch\u001b[0m\u001b[0;34m(\u001b[0m\u001b[0;34m)\u001b[0m\u001b[0;34m\u001b[0m\u001b[0;34m\u001b[0m\u001b[0m\n\u001b[1;32m    547\u001b[0m \u001b[0;34m\u001b[0m\u001b[0m\n",
            "\u001b[0;31mKeyboardInterrupt\u001b[0m: "
          ]
        }
      ],
      "source": [
        "# Cần thay đổi batch_size để học tốt hơn, batch size càng nhỏ học càng tốt và kết quả sẽ tốt hơn, nhỏ quá sẽ bị overfit\n",
        "history=lstm.fit(X_train, y_train, epochs=300, verbose=1, shuffle=False)"
      ]
    },
    {
      "cell_type": "markdown",
      "metadata": {
        "id": "ZcJQky8HoT3s"
      },
      "source": [
        "## Testing and visualize"
      ]
    },
    {
      "cell_type": "code",
      "execution_count": null,
      "metadata": {
        "id": "bulUu5K0oSti"
      },
      "outputs": [],
      "source": [
        "#LSTM Prediction\n",
        "y_pred= lstm.predict(X_test)"
      ]
    },
    {
      "cell_type": "code",
      "execution_count": null,
      "metadata": {
        "id": "lW45VkcZo__m"
      },
      "outputs": [],
      "source": [
        "pred = []\n",
        "for y in y_pred:\n",
        "  pred.append(y[0])\n",
        "  \n",
        "true = []\n",
        "for y in y_test:\n",
        "  true.append(y[0][0])"
      ]
    },
    {
      "cell_type": "code",
      "execution_count": null,
      "metadata": {
        "id": "poAeTSHUo5qu"
      },
      "outputs": [],
      "source": [
        "#Predicted vs True Adj Close Value – LSTM\n",
        "plt.plot(list(true), label='True Value')\n",
        "plt.plot(list(pred), label='LSTM Value')\n",
        "plt.title('Prediction by LSTM')\n",
        "plt.xlabel('Time Scale')\n",
        "plt.ylabel('Scaled USD')\n",
        "plt.legend()\n",
        "plt.show()"
      ]
    },
    {
      "cell_type": "code",
      "execution_count": null,
      "metadata": {
        "id": "DFZ97axe05pI"
      },
      "outputs": [],
      "source": [
        "# summarize history for loss\n",
        "plt.plot(history.history['loss'])\n",
        "plt.title('model loss')\n",
        "plt.ylabel('loss')\n",
        "plt.xlabel('epoch')\n",
        "plt.legend(['train'], loc='upper left')\n",
        "plt.show()"
      ]
    }
  ],
  "metadata": {
    "colab": {
      "collapsed_sections": [
        "J78Rx5aFWsNy",
        "t4RLdlc6Z7cz"
      ],
      "name": "BigData-Spark-Project-3.ipynb",
      "provenance": []
    },
    "kernelspec": {
      "display_name": "Python 3",
      "name": "python3"
    },
    "language_info": {
      "name": "python"
    },
    "accelerator": "GPU"
  },
  "nbformat": 4,
  "nbformat_minor": 0
}