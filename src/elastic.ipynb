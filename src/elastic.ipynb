{
 "cells": [
  {
   "cell_type": "code",
   "execution_count": null,
   "id": "1453f074",
   "metadata": {},
   "outputs": [],
   "source": [
    "!pip install elasticsearch\n",
    "!pip install pandas\n",
    "!pip install es_pandas\n",
    "!pip install progressbar2"
   ]
  },
  {
   "cell_type": "code",
   "execution_count": 16,
   "id": "9e75ae04",
   "metadata": {},
   "outputs": [
    {
     "name": "stderr",
     "output_type": "stream",
     "text": [
      " 93% (3113 of 3323) |##################  | Elapsed Time: 0:00:00 ETA:   0:00:00"
     ]
    },
    {
     "name": "stdout",
     "output_type": "stream",
     "text": [
      "Date                 datetime64[ns]\n",
      "Symbol                       object\n",
      "Year                          int64\n",
      "Month                         int64\n",
      "Day                           int64\n",
      "Open                        float64\n",
      "High                        float64\n",
      "Low                         float64\n",
      "Close                       float64\n",
      "Adjusted Close              float64\n",
      "Volumne                     float64\n",
      "Dividend Amount             float64\n",
      "Split Coefficient           float64\n",
      "dtype: object\n"
     ]
    },
    {
     "data": {
      "text/plain": [
       "3323"
      ]
     },
     "execution_count": 16,
     "metadata": {},
     "output_type": "execute_result"
    }
   ],
   "source": [
    "import pandas as pd\n",
    "from es_pandas import es_pandas\n",
    "data= pd.read_csv('BigData/CSCO.csv')\n",
    "data['Date'] = data['Date'].astype('datetime64[ns]')\n",
    "print(data.dtypes)\n",
    "es_host = 'elasticsearch:9200'\n",
    "index = 'symbol-cisco'\n",
    "TYPE = 'demo'\n",
    "esp = es_pandas(es_host)\n",
    "esp.to_es(data, index, TYPE, use_pandas_json=True)"
   ]
  },
  {
   "cell_type": "code",
   "execution_count": null,
   "id": "672b7bd9",
   "metadata": {},
   "outputs": [],
   "source": []
  }
 ],
 "metadata": {
  "kernelspec": {
   "display_name": "Python 3 (ipykernel)",
   "language": "python",
   "name": "python3"
  },
  "language_info": {
   "codemirror_mode": {
    "name": "ipython",
    "version": 3
   },
   "file_extension": ".py",
   "mimetype": "text/x-python",
   "name": "python",
   "nbconvert_exporter": "python",
   "pygments_lexer": "ipython3",
   "version": "3.9.2"
  }
 },
 "nbformat": 4,
 "nbformat_minor": 5
}
