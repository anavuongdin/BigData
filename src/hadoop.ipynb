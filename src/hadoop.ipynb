{
 "cells": [
  {
   "cell_type": "code",
   "execution_count": 1,
   "id": "d881de7d",
   "metadata": {},
   "outputs": [
    {
     "name": "stderr",
     "output_type": "stream",
     "text": [
      "21/12/28 10:54:20 WARN NativeCodeLoader: Unable to load native-hadoop library for your platform... using builtin-java classes where applicable\n",
      "Using Spark's default log4j profile: org/apache/spark/log4j-defaults.properties\n",
      "Setting default log level to \"WARN\".\n",
      "To adjust logging level use sc.setLogLevel(newLevel). For SparkR, use setLogLevel(newLevel).\n"
     ]
    }
   ],
   "source": [
    "from pyspark.sql import SparkSession\n",
    "\n",
    "spark = SparkSession.\\\n",
    "        builder.\\\n",
    "        appName(\"pyspark-notebook\").\\\n",
    "        master(\"spark://spark-master:7077\").\\\n",
    "        config(\"spark.executor.memory\", \"512m\").\\\n",
    "        config(\"spark.sql.warehouse.dir\", \"hdfs://localhost:9000/\"). \\\n",
    "        getOrCreate()"
   ]
  },
  {
   "cell_type": "code",
   "execution_count": 3,
   "id": "d9290547",
   "metadata": {},
   "outputs": [
    {
     "name": "stderr",
     "output_type": "stream",
     "text": [
      "                                                                                \r"
     ]
    }
   ],
   "source": [
    "#start 17h58\n",
    "#end 19h34\n",
    "import os\n",
    "parent_dir = \"./BigData\"\n",
    "for dir in os.listdir(parent_dir):\n",
    "    path = os.path.join(dir, parent_dir)\n",
    "    data = spark.read.csv(\"stockerbot-export.csv\")\n",
    "    hdfs_path = 'hdfs://namenode:9000//user/root/BigData/' + dir\n",
    "    data.write.csv(path=hdfs_path, mode='overwrite')"
   ]
  },
  {
   "cell_type": "code",
   "execution_count": null,
   "id": "512c6254",
   "metadata": {},
   "outputs": [],
   "source": [
    "data = spark.read.csv(\"stockerbot-export.csv\")"
   ]
  },
  {
   "cell_type": "code",
   "execution_count": null,
   "id": "6f7f8278",
   "metadata": {},
   "outputs": [],
   "source": [
    "data.show(n=4)"
   ]
  },
  {
   "cell_type": "code",
   "execution_count": null,
   "id": "bf4edea1",
   "metadata": {},
   "outputs": [],
   "source": [
    "data.write.csv(path='hdfs://namenode:9000//user/root/stockerbot-export.csv', mode='overwrite')"
   ]
  },
  {
   "cell_type": "code",
   "execution_count": null,
   "id": "8857481d",
   "metadata": {},
   "outputs": [],
   "source": [
    "data  = spark.read.csv(path='hdfs://namenode:9000//user/root/stockerbot-export.csv')"
   ]
  },
  {
   "cell_type": "code",
   "execution_count": null,
   "id": "fce1525d",
   "metadata": {},
   "outputs": [],
   "source": [
    "data.show(n=4)"
   ]
  },
  {
   "cell_type": "code",
   "execution_count": null,
   "id": "ac1d4f73",
   "metadata": {},
   "outputs": [],
   "source": []
  }
 ],
 "metadata": {
  "kernelspec": {
   "display_name": "Python 3 (ipykernel)",
   "language": "python",
   "name": "python3"
  },
  "language_info": {
   "codemirror_mode": {
    "name": "ipython",
    "version": 3
   },
   "file_extension": ".py",
   "mimetype": "text/x-python",
   "name": "python",
   "nbconvert_exporter": "python",
   "pygments_lexer": "ipython3",
   "version": "3.9.2"
  }
 },
 "nbformat": 4,
 "nbformat_minor": 5
}
